{
  "cells": [
    {
      "metadata": {
        "state": "normal"
      },
      "cell_type": "markdown",
      "source": "# Lab 08: Circular, Array-backed Queue"
    },
    {
      "metadata": {
        "state": "normal"
      },
      "cell_type": "markdown",
      "source": "## Overview\n\nFor this assignment you will implement a circular, array-backed queue data structure.\n\nIn the following class, which you are to complete, the backing array will be created and populated with `None`s in the `__init__` method, and the `head` and `tail` indexes set to sentinel values (you shouldn't need to modify `__init__`). Enqueueing and Dequeueing items will take place at the tail and head, with `tail` and `head` tracking the position of the most recently enqueued item and that of the next item to dequeue, respectively. To simplify testing, your implementation should make sure that when dequeuing an item its slot in the array is reset to `None`, and when the queue is emptied its `head` and `tail` attributes should be set to `-1`.\n\nBecause of the fixed size backing array, the `enqueue` operation is defined to raise a `RuntimeError` when the queue is full — the same exception should be raised when `dequeue` is called on an empty queue.\n\nFinally, the `resize` method will allow the array underlying the queue to be increased in size. It is up to you how to implement this (you can either leave the elements in their current positions, though this may require \"unwrapping\" elements, or you can simply move all elements towards the front of the array). You may assume that `resize` will only be called with a value greater than the current length of the underlying array."
    },
    {
      "metadata": {
        "nbgrader": {
          "grade": false,
          "grade_id": "queue",
          "locked": false,
          "schema_version": 1,
          "solution": true
        },
        "id": "queue",
        "state": "graded",
        "deletable": false,
        "starter_code": "class Queue:\n    def __init__(self, limit=10):\n        self.data = [None] * limit\n        self.head = -1\n        self.tail = -1\n\n    \n\n    def enqueue(self, val):\n        \n        \n    def dequeue(self):\n        \n    \n    def resize(self, newsize):\n        assert(len(self.data) < newsize)\n        \n    \n    def empty(self):\n        \n    \n    def __bool__(self):\n        return not self.empty()\n    \n    def __str__(self):\n        if not(self):\n            return ''\n        return ', '.join(str(x) for x in self)\n    \n    def __repr__(self):\n        return str(self)\n    \n    def __iter__(self):\n        ",
        "trusted": true
      },
      "cell_type": "code",
      "source": "class Queue:\n    def __init__(self, limit=10):\n        self.data = [None] * limit\n        self.head = -1\n        self.tail = -1\n\n    \n\n    def enqueue(self, val):\n        if self.head - self.tail == 1:\n            raise NotImplementedError\n        if len(self.data) - 1 == self.tail and self.head == 0:\n            raise NotImplementedError\n        if self.head == -1 and self.tail == -1:\n            self.data[0] = val\n            self.head = 0\n            self.tail = 0\n        else:\n            if len(self.data) - 1 == self.tail and self.head != 0:\n                self.tail = -1\n            self.data[self.tail + 1] = val\n            self.tail = self.tail + 1\n    def dequeue(self):\n        if self.head == self.tail:\n            temp = self.head\n            self.head = -1\n            self.tail = -1\n            return self.data[temp]\n        if self.head == -1 and self.tail == -1:\n            raise NotImplementedError\n        if self.head != len(self.data):\n            result = self.data[self.head]\n            self.data[self.head] = None\n            self.head = self.head + 1\n        else:\n            self.head = 0\n            result = self.data[self.head]\n            self.data[self.head] = None\n            self.head = self.head + 1\n        return result\n    def resize(self, newsize):\n        assert(len(self.data) < newsize)\n        newdata = [None] * newsize\n        head = self.head\n        current = self.data[head]\n        countValue = 0\n        while current != None:\n            newdata[countValue] = current\n            countValue += 1\n            if countValue != 0 and head == self.tail:\n                break\n            if head != len(self.data) - 1:\n                head = head + 1\n                current = self.data[head]\n            else:\n                head = 0\n                current = self.data[head]\n        self.data = newdata\n        self.head = 0\n        self.tail = countValue - 1\n    def empty(self):\n        if self.head == -1 and self.tail == -1:\n            return True\n        return False\n    def __bool__(self):\n        return not self.empty()\n    \n    def __str__(self):\n        if not(self):\n            return ''\n        return ', '.join(str(x) for x in self)\n    \n    def __repr__(self):\n        return str(self)\n    \n    def __iter__(self):\n        head = self.head\n        current = self.data[head]\n        countValue = 0\n        while current != None:\n            yield current\n            countValue += 1\n            if countValue != 0 and head == self.tail:\n                break\n            if head != len(self.data) - 1:\n                head = head + 1\n                current = self.data[head]\n            else:\n                head = 0\n                current = self.data[head]",
      "execution_count": 16,
      "outputs": []
    },
    {
      "metadata": {
        "nbgrader": {
          "grade": true,
          "grade_id": "queue_tests_1",
          "locked": true,
          "points": 5,
          "schema_version": 1,
          "solution": false
        },
        "id": "queue_tests_1",
        "state": "read_only",
        "editable": false,
        "deletable": false,
        "trusted": true
      },
      "cell_type": "code",
      "source": "# (5 points)\n\nfrom unittest import TestCase\ntc = TestCase()\n\nq = Queue(5)\ntc.assertEqual(q.data, [None] * 5)\n\nfor i in range(5):\n    q.enqueue(i)\n    \nwith tc.assertRaises(RuntimeError):\n    q.enqueue(5)\n\nfor i in range(5):\n    tc.assertEqual(q.dequeue(), i)\n    \ntc.assertTrue(q.empty())",
      "execution_count": 17,
      "outputs": []
    },
    {
      "metadata": {
        "nbgrader": {
          "grade": true,
          "grade_id": "queue_tests_2",
          "locked": true,
          "points": 5,
          "schema_version": 1,
          "solution": false
        },
        "id": "queue_tests_2",
        "state": "read_only",
        "editable": false,
        "deletable": false,
        "trusted": true
      },
      "cell_type": "code",
      "source": "# (5 points)\n\nfrom unittest import TestCase\ntc = TestCase()\n\nq = Queue(10)\n\nfor i in range(6):\n    q.enqueue(i)\n    \ntc.assertEqual(q.data.count(None), 4)\n\nfor i in range(5):\n    q.dequeue()\n    \ntc.assertFalse(q.empty())\ntc.assertEqual(q.data.count(None), 9)\ntc.assertEqual(q.head, q.tail)\ntc.assertEqual(q.head, 5)\n\nfor i in range(9):\n    q.enqueue(i)\n\nwith tc.assertRaises(RuntimeError):\n    q.enqueue(10)\n\nfor x, y in zip(q, [5] + list(range(9))):\n    tc.assertEqual(x, y)\n    \ntc.assertEqual(q.dequeue(), 5)\nfor i in range(9):\n    tc.assertEqual(q.dequeue(), i)\n\ntc.assertTrue(q.empty())",
      "execution_count": 18,
      "outputs": []
    },
    {
      "metadata": {
        "nbgrader": {
          "grade": true,
          "grade_id": "queue_tests_3",
          "locked": true,
          "points": 5,
          "schema_version": 1,
          "solution": false
        },
        "id": "queue_tests_3",
        "state": "read_only",
        "editable": false,
        "deletable": false,
        "trusted": true
      },
      "cell_type": "code",
      "source": "# (5 points)\n\nfrom unittest import TestCase\ntc = TestCase()\n\nq = Queue(5)\nfor i in range(5):\n    q.enqueue(i)\nfor i in range(4):\n    q.dequeue()\nfor i in range(5, 9):\n    q.enqueue(i)\n    \nwith tc.assertRaises(RuntimeError):\n    q.enqueue(10)\n\nq.resize(10)\n\nfor x, y in zip(q, range(4, 9)):\n    tc.assertEqual(x, y)\n    \nfor i in range(9, 14):\n    q.enqueue(i)\n\nfor i in range(4, 14):\n    tc.assertEqual(q.dequeue(), i)\n    \ntc.assertTrue(q.empty())\ntc.assertEqual(q.head, -1)",
      "execution_count": 19,
      "outputs": []
    },
    {
      "metadata": {
        "trusted": true
      },
      "cell_type": "code",
      "source": "",
      "execution_count": null,
      "outputs": []
    }
  ],
  "metadata": {
    "kernelspec": {
      "name": "python3",
      "display_name": "Python 3",
      "language": "python"
    },
    "language_info": {
      "name": "python",
      "version": "3.7.3",
      "mimetype": "text/x-python",
      "codemirror_mode": {
        "name": "ipython",
        "version": 3
      },
      "pygments_lexer": "ipython3",
      "nbconvert_exporter": "python",
      "file_extension": ".py"
    },
    "mimir": {
      "project_id": "5ebae0e9-88f4-48cf-965c-d55aff8e500c",
      "last_submission_id": "",
      "data": {}
    },
    "varInspector": {
      "window_display": false,
      "cols": {
        "lenName": 16,
        "lenType": 16,
        "lenVar": 40
      },
      "kernels_config": {
        "python": {
          "library": "var_list.py",
          "delete_cmd_prefix": "del ",
          "delete_cmd_postfix": "",
          "varRefreshCmd": "print(var_dic_list())"
        },
        "r": {
          "library": "var_list.r",
          "delete_cmd_prefix": "rm(",
          "delete_cmd_postfix": ") ",
          "varRefreshCmd": "cat(var_dic_list()) "
        }
      },
      "types_to_exclude": [
        "module",
        "function",
        "builtin_function_or_method",
        "instance",
        "_Feature"
      ]
    }
  },
  "nbformat": 4,
  "nbformat_minor": 2
}